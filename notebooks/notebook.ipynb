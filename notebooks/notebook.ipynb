{
 "metadata": {
  "name": "",
  "signature": "sha256:d36d45e5381371fe5557fa2c27d1316fc38b3676bd5e812594a0101297e80370"
 },
 "nbformat": 3,
 "nbformat_minor": 0,
 "worksheets": [
  {
   "cells": [
    {
     "cell_type": "markdown",
     "metadata": {},
     "source": [
      "###Basketball-Reference Player Scraper\n",
      "\n",
      "This notebook exposes some tools for graphing data about NBA players pulled from Basketball-Reference.com.\n",
      "\n",
      "You already supplied the player you're interested in on the previous page. His name has been filled in as an argument to the function #get_player_data in the code below.\n",
      "\n",
      "When you execute the code below, the results of the **get_player_data()** function will be assigned to the variable **'player'**.\n",
      "\n",
      "You can see a simple graph of any given stat by calling **player.graph(stat_type, table_type)**\n",
      "\n",
      "**'stat_type'** must be a stat: e.g., 'points', 'assists', 'steals'.\n",
      "\n",
      "**'table_type'** must be 'totals', 'per_game', or 'per_minute'\n",
      "\n",
      "To see all possible stat_types, call **player.get_stat_types()**\n",
      "\n",
      "There is quite a lot of noise from SQLAlchemy displaying on the notebook right now. Top item on 'todo' list."
     ]
    },
    {
     "cell_type": "code",
     "collapsed": false,
     "input": [
      "%%capture noise\n",
      "%load_ext extension"
     ],
     "language": "python",
     "metadata": {},
     "outputs": [],
     "prompt_number": 5
    },
    {
     "cell_type": "code",
     "collapsed": false,
     "input": [
      "player"
     ],
     "language": "python",
     "metadata": {},
     "outputs": [
      {
       "metadata": {},
       "output_type": "pyout",
       "prompt_number": 2,
       "text": [
        "<player_data.player_data.PlayerData instance at 0x10d2f6128>"
       ]
      }
     ],
     "prompt_number": 2
    },
    {
     "cell_type": "code",
     "collapsed": false,
     "input": [
      "player.graph('points', 'totals')"
     ],
     "language": "python",
     "metadata": {},
     "outputs": [],
     "prompt_number": 3
    },
    {
     "cell_type": "code",
     "collapsed": false,
     "input": [],
     "language": "python",
     "metadata": {},
     "outputs": []
    }
   ],
   "metadata": {}
  }
 ]
}