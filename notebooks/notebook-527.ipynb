{
 "metadata": {
  "name": "",
  "signature": "sha256:37daf72100d2da5fba3acae7b42ad8214734158ecf1668ece814539d733a3dad"
 },
 "nbformat": 3,
 "nbformat_minor": 0,
 "worksheets": [
  {
   "cells": [
    {
     "cell_type": "markdown",
     "metadata": {},
     "source": [
      "###Basketball-Reference Player Scraper\n",
      "\n",
      "This notebook exposes some tools for graphing data about NBA players pulled from Basketball-Reference.com.\n",
      "\n",
      "You already supplied the player you're interested in on the previous page. His name has been filled in as an argument to the function #get_player_data in the code below.\n",
      "\n",
      "When you execute the code below, the results of the **get_player_data()** function will be assigned to the variable **'player'**.\n",
      "\n",
      "You can see a simple graph of any given stat by calling **player.graph(stat_type, table_type)**\n",
      "\n",
      "**'stat_type'** must be a stat: e.g., 'points', 'assists', 'steals'.\n",
      "\n",
      "**'table_type'** must be 'totals', 'per_game', or 'per_minute'\n",
      "\n",
      "To see all possible stat_types, call **player.get_stat_types()**\n",
      "\n",
      "There is quite a lot of noise from SQLAlchemy displaying on the notebook right now. Top item on 'todo' list."
     ]
    },
    {
     "cell_type": "code",
     "collapsed": false,
     "input": [
      "%%capture noise",
      "%load_ext extensions/extension"
     ],
     "language": "python",
     "metadata": {},
     "outputs": [],
     "prompt_number": 1
    }
   ],
   "metadata": {}
  }
 ]
}