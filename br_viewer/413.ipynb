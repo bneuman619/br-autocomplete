{
 "metadata": {
  "name": "",
  "signature": "sha256:37daf72100d2da5fba3acae7b42ad8214734158ecf1668ece814539d733a3dad"
 },
 "nbformat": 3,
 "nbformat_minor": 0,
 "worksheets": [
  {
   "cells": [
    {
     "cell_type": "code",
     "collapsed": false,
     "input": [
      "from player_scraper.scrape_player import scrape_player\n",
      "%matplotlib inline\n",
      "player = scrape_player(\"stephen jackson\")"
     ],
     "language": "python",
     "metadata": {},
     "outputs": [],
     "prompt_number": 1
    }
   ],
   "metadata": {}
  }
 ]
}