{
 "metadata": {
  "name": "",
  "signature": "sha256:78f02e904dfedaaaf6ec790ba1bab774a3f44cffcc0875b57009b126a0d5f8a4"
 },
 "nbformat": 3,
 "nbformat_minor": 0,
 "worksheets": [
  {
   "cells": [
    {
     "cell_type": "code",
     "collapsed": false,
     "input": [
      "from player_scraper.scrape_player import scrape_player\n",
      "%matplotlib inline\n",
      "player = scrape_player(\"michael beasley\")"
     ],
     "language": "python",
     "metadata": {},
     "outputs": [],
     "prompt_number": 1
    },
    {
     "cell_type": "code",
     "collapsed": false,
     "input": [
      "player"
     ],
     "language": "python",
     "metadata": {},
     "outputs": [
      {
       "metadata": {},
       "output_type": "pyout",
       "prompt_number": 2,
       "text": [
        "Player: Michael Beasley\n",
        "Stats tables: playoffs_advanced playoffs_shooting per_minute playoffs_totals totals playoffs_advanced_pbp playoffs_per_game per_game playoffs_per_minute advanced_pbp shooting advanced"
       ]
      }
     ],
     "prompt_number": 2
    },
    {
     "cell_type": "code",
     "collapsed": false,
     "input": [],
     "language": "python",
     "metadata": {},
     "outputs": []
    }
   ],
   "metadata": {}
  }
 ]
}