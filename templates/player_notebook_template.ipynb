{
 "metadata": {
  "name": "",
  "signature": "sha256:37daf72100d2da5fba3acae7b42ad8214734158ecf1668ece814539d733a3dad"
 },
 "nbformat": 3,
 "nbformat_minor": 0,
 "worksheets": [
  {
   "cells": [
    {
     "cell_type": "code",
     "collapsed": false,
     "input": [
      "from player_scraper.player_data import get_player_data\n",
      "%matplotlib inline\n",
      "player = get_player_data(\"{{player}}\")"
     ],
     "language": "python",
     "metadata": {},
     "outputs": [],
     "prompt_number": 1
    }
   ],
   "metadata": {}
  }
 ]
}