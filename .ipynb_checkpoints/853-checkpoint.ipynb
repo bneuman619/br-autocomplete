{
 "metadata": {
  "name": "",
  "signature": "sha256:135694d3f86c1886b9a01ff2cbcaa44a8363026e9d6063bdcd1aed4616acff8c"
 },
 "nbformat": 3,
 "nbformat_minor": 0,
 "worksheets": [
  {
   "cells": [
    {
     "cell_type": "code",
     "collapsed": false,
     "input": [
      "from player_scraper.scrape_player import scrape_player\n",
      "%matplotlib inline\n",
      "player = scrape_player(\"steve nash\")"
     ],
     "language": "python",
     "metadata": {},
     "outputs": [],
     "prompt_number": 1
    }
   ],
   "metadata": {}
  }
 ]
}