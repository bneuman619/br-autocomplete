{
 "metadata": {
  "name": "",
  "signature": "sha256:6835e52c57f506a0a5c99868f094ec488140e301f9d45e79dc76854ef4b60ed9"
 },
 "nbformat": 3,
 "nbformat_minor": 0,
 "worksheets": [
  {
   "cells": [
    {
     "cell_type": "code",
     "collapsed": false,
     "input": [
      "from player_scraper.scrape_player import scrape_player"
     ],
     "language": "python",
     "metadata": {},
     "outputs": [],
     "prompt_number": 1
    },
    {
     "cell_type": "code",
     "collapsed": false,
     "input": [
      "%matplotlib inline"
     ],
     "language": "python",
     "metadata": {},
     "outputs": [],
     "prompt_number": 2
    },
    {
     "cell_type": "code",
     "collapsed": false,
     "input": [
      "player = scrape_player(\"stephen curry\")"
     ],
     "language": "python",
     "metadata": {},
     "outputs": [
      {
       "metadata": {},
       "output_type": "pyout",
       "prompt_number": 3,
       "text": [
        "Player: Stephen Curry\n",
        "Stats tables: playoffs_advanced playoffs_shooting per_minute playoffs_totals totals playoffs_advanced_pbp playoffs_per_game per_game playoffs_per_minute advanced_pbp shooting advanced"
       ]
      }
     ],
     "prompt_number": 3
    }
   ],
   "metadata": {}
  }
 ]
}