{
 "metadata": {
  "name": "",
  "signature": "sha256:037efb240945a6b5df1e960bc2b116fd6b375093ce037e9438554597d384487e"
 },
 "nbformat": 3,
 "nbformat_minor": 0,
 "worksheets": [
  {
   "cells": [
    {
     "cell_type": "markdown",
     "metadata": {},
     "source": [
      "###Basketball-Reference Player Scraper\n",
      "\n",
      "This notebook exposes some tools for graphing data about NBA players pulled from Basketball-Reference.com.\n",
      "\n",
      "You already supplied the player you're interested in on the previous page. His name has been filled in as an argument to the function #get_player_data in the code below.\n",
      "\n",
      "When you execute the code below, the results of the **get_player_data()** function will be assigned to the variable **'player'**.\n",
      "\n",
      "You can see a simple graph of any given stat by calling **player.graph(stat_type, table_type)**\n",
      "\n",
      "**'stat_type'** must be a stat: e.g., 'points', 'assists', 'steals'.\n",
      "\n",
      "**'table_type'** must be 'totals', 'per_game', or 'per_minute'\n",
      "\n",
      "To see all possible stat_types, call **player.get_stat_types()**\n",
      "\n",
      "There is quite a lot of noise from SQLAlchemy displaying on the notebook right now. Top item on 'todo' list."
     ]
    },
    {
     "cell_type": "code",
     "collapsed": false,
     "input": [
      "from player_data import get_player_data\n",
      "%matplotlib inline\n",
      "player = get_player_data(\"dennis rodman\")"
     ],
     "language": "python",
     "metadata": {},
     "outputs": [
      {
       "output_type": "stream",
       "stream": "stdout",
       "text": [
        "2014-04-23 18:55:46,178 INFO sqlalchemy.engine.base.Engine SELECT CAST('test plain returns' AS VARCHAR(60)) AS anon_1\n"
       ]
      },
      {
       "output_type": "stream",
       "stream": "stderr",
       "text": [
        "INFO:sqlalchemy.engine.base.Engine:SELECT CAST('test plain returns' AS VARCHAR(60)) AS anon_1\n"
       ]
      },
      {
       "output_type": "stream",
       "stream": "stdout",
       "text": [
        "2014-04-23 18:55:46,179 INFO sqlalchemy.engine.base.Engine ()\n"
       ]
      },
      {
       "output_type": "stream",
       "stream": "stderr",
       "text": [
        "INFO:sqlalchemy.engine.base.Engine:()\n"
       ]
      },
      {
       "output_type": "stream",
       "stream": "stdout",
       "text": [
        "2014-04-23 18:55:46,180 INFO sqlalchemy.engine.base.Engine SELECT CAST('test unicode returns' AS VARCHAR(60)) AS anon_1\n"
       ]
      },
      {
       "output_type": "stream",
       "stream": "stderr",
       "text": [
        "INFO:sqlalchemy.engine.base.Engine:SELECT CAST('test unicode returns' AS VARCHAR(60)) AS anon_1\n"
       ]
      },
      {
       "output_type": "stream",
       "stream": "stdout",
       "text": [
        "2014-04-23 18:55:46,182 INFO sqlalchemy.engine.base.Engine ()\n"
       ]
      },
      {
       "output_type": "stream",
       "stream": "stderr",
       "text": [
        "INFO:sqlalchemy.engine.base.Engine:()\n"
       ]
      },
      {
       "output_type": "stream",
       "stream": "stdout",
       "text": [
        "2014-04-23 18:55:46,184 INFO sqlalchemy.engine.base.Engine BEGIN (implicit)\n"
       ]
      },
      {
       "output_type": "stream",
       "stream": "stderr",
       "text": [
        "INFO:sqlalchemy.engine.base.Engine:BEGIN (implicit)\n"
       ]
      },
      {
       "output_type": "stream",
       "stream": "stdout",
       "text": [
        "2014-04-23 18:55:46,188 INFO sqlalchemy.engine.base.Engine SELECT players.id AS players_id, players.name AS players_name, players.url AS players_url \n",
        "FROM players \n",
        "WHERE players.name LIKE ?\n",
        " LIMIT ? OFFSET ?\n"
       ]
      },
      {
       "output_type": "stream",
       "stream": "stderr",
       "text": [
        "INFO:sqlalchemy.engine.base.Engine:SELECT players.id AS players_id, players.name AS players_name, players.url AS players_url \n",
        "FROM players \n",
        "WHERE players.name LIKE ?\n",
        " LIMIT ? OFFSET ?\n"
       ]
      },
      {
       "output_type": "stream",
       "stream": "stdout",
       "text": [
        "2014-04-23 18:55:46,189 INFO sqlalchemy.engine.base.Engine ('dennis rodman', 1, 0)\n"
       ]
      },
      {
       "output_type": "stream",
       "stream": "stderr",
       "text": [
        "INFO:sqlalchemy.engine.base.Engine:('dennis rodman', 1, 0)\n"
       ]
      },
      {
       "output_type": "stream",
       "stream": "stdout",
       "text": [
        "2014-04-23 18:55:46,196 INFO sqlalchemy.engine.base.Engine SELECT stats.id AS stats_id, stats.player_id AS stats_player_id, stats.year_id AS stats_year_id, stats.type_id AS stats_type_id, stats.games AS stats_games, stats.games_started AS stats_games_started, stats.minutes_played AS stats_minutes_played, stats.fgs AS stats_fgs, stats.fg_attempts AS stats_fg_attempts, stats.fg_percent AS stats_fg_percent, stats.th_fgs AS stats_th_fgs, stats.th_fg_attempts AS stats_th_fg_attempts, stats.th_fg_percent AS stats_th_fg_percent, stats.tw_fgs AS stats_tw_fgs, stats.tw_fg_attempts AS stats_tw_fg_attempts, stats.tw_fg_percent AS stats_tw_fg_percent, stats.fts AS stats_fts, stats.ft_attempts AS stats_ft_attempts, stats.ft_percent AS stats_ft_percent, stats.off_rebound AS stats_off_rebound, stats.def_rebound AS stats_def_rebound, stats.rebounds AS stats_rebounds, stats.assists AS stats_assists, stats.steals AS stats_steals, stats.blocks AS stats_blocks, stats.turnovers AS stats_turnovers, stats.fouls AS stats_fouls, stats.points AS stats_points \n",
        "FROM stats \n",
        "WHERE stats.player_id = ?\n"
       ]
      },
      {
       "output_type": "stream",
       "stream": "stderr",
       "text": [
        "INFO:sqlalchemy.engine.base.Engine:SELECT stats.id AS stats_id, stats.player_id AS stats_player_id, stats.year_id AS stats_year_id, stats.type_id AS stats_type_id, stats.games AS stats_games, stats.games_started AS stats_games_started, stats.minutes_played AS stats_minutes_played, stats.fgs AS stats_fgs, stats.fg_attempts AS stats_fg_attempts, stats.fg_percent AS stats_fg_percent, stats.th_fgs AS stats_th_fgs, stats.th_fg_attempts AS stats_th_fg_attempts, stats.th_fg_percent AS stats_th_fg_percent, stats.tw_fgs AS stats_tw_fgs, stats.tw_fg_attempts AS stats_tw_fg_attempts, stats.tw_fg_percent AS stats_tw_fg_percent, stats.fts AS stats_fts, stats.ft_attempts AS stats_ft_attempts, stats.ft_percent AS stats_ft_percent, stats.off_rebound AS stats_off_rebound, stats.def_rebound AS stats_def_rebound, stats.rebounds AS stats_rebounds, stats.assists AS stats_assists, stats.steals AS stats_steals, stats.blocks AS stats_blocks, stats.turnovers AS stats_turnovers, stats.fouls AS stats_fouls, stats.points AS stats_points \n",
        "FROM stats \n",
        "WHERE stats.player_id = ?\n"
       ]
      },
      {
       "output_type": "stream",
       "stream": "stdout",
       "text": [
        "2014-04-23 18:55:46,197 INFO sqlalchemy.engine.base.Engine (3184,)\n"
       ]
      },
      {
       "output_type": "stream",
       "stream": "stderr",
       "text": [
        "INFO:sqlalchemy.engine.base.Engine:(3184,)\n"
       ]
      }
     ],
     "prompt_number": 1
    },
    {
     "cell_type": "code",
     "collapsed": false,
     "input": [
      "player.graph('points', 'totals')"
     ],
     "language": "python",
     "metadata": {},
     "outputs": [
      {
       "output_type": "stream",
       "stream": "stdout",
       "text": [
        "2014-04-23 18:55:59,600 INFO sqlalchemy.engine.base.Engine SELECT table_types.id AS table_types_id, table_types.type_name AS table_types_type_name \n",
        "FROM table_types \n",
        "WHERE table_types.id = ?\n"
       ]
      },
      {
       "output_type": "stream",
       "stream": "stderr",
       "text": [
        "INFO:sqlalchemy.engine.base.Engine:SELECT table_types.id AS table_types_id, table_types.type_name AS table_types_type_name \n",
        "FROM table_types \n",
        "WHERE table_types.id = ?\n"
       ]
      },
      {
       "output_type": "stream",
       "stream": "stdout",
       "text": [
        "2014-04-23 18:55:59,602 INFO sqlalchemy.engine.base.Engine (1,)\n"
       ]
      },
      {
       "output_type": "stream",
       "stream": "stderr",
       "text": [
        "INFO:sqlalchemy.engine.base.Engine:(1,)\n"
       ]
      },
      {
       "output_type": "stream",
       "stream": "stdout",
       "text": [
        "2014-04-23 18:55:59,605 INFO sqlalchemy.engine.base.Engine SELECT years.id AS years_id, years.year AS years_year \n",
        "FROM years \n",
        "WHERE years.id = ?\n"
       ]
      },
      {
       "output_type": "stream",
       "stream": "stderr",
       "text": [
        "INFO:sqlalchemy.engine.base.Engine:SELECT years.id AS years_id, years.year AS years_year \n",
        "FROM years \n",
        "WHERE years.id = ?\n"
       ]
      },
      {
       "output_type": "stream",
       "stream": "stdout",
       "text": [
        "2014-04-23 18:55:59,606 INFO sqlalchemy.engine.base.Engine (42,)\n"
       ]
      },
      {
       "output_type": "stream",
       "stream": "stderr",
       "text": [
        "INFO:sqlalchemy.engine.base.Engine:(42,)\n"
       ]
      },
      {
       "output_type": "stream",
       "stream": "stdout",
       "text": [
        "2014-04-23 18:55:59,609 INFO sqlalchemy.engine.base.Engine SELECT years.id AS years_id, years.year AS years_year \n",
        "FROM years \n",
        "WHERE years.id = ?\n"
       ]
      },
      {
       "output_type": "stream",
       "stream": "stderr",
       "text": [
        "INFO:sqlalchemy.engine.base.Engine:SELECT years.id AS years_id, years.year AS years_year \n",
        "FROM years \n",
        "WHERE years.id = ?\n"
       ]
      },
      {
       "output_type": "stream",
       "stream": "stdout",
       "text": [
        "2014-04-23 18:55:59,611 INFO sqlalchemy.engine.base.Engine (43,)\n"
       ]
      },
      {
       "output_type": "stream",
       "stream": "stderr",
       "text": [
        "INFO:sqlalchemy.engine.base.Engine:(43,)\n"
       ]
      },
      {
       "output_type": "stream",
       "stream": "stdout",
       "text": [
        "2014-04-23 18:55:59,614 INFO sqlalchemy.engine.base.Engine SELECT years.id AS years_id, years.year AS years_year \n",
        "FROM years \n",
        "WHERE years.id = ?\n"
       ]
      },
      {
       "output_type": "stream",
       "stream": "stderr",
       "text": [
        "INFO:sqlalchemy.engine.base.Engine:SELECT years.id AS years_id, years.year AS years_year \n",
        "FROM years \n",
        "WHERE years.id = ?\n"
       ]
      },
      {
       "output_type": "stream",
       "stream": "stdout",
       "text": [
        "2014-04-23 18:55:59,615 INFO sqlalchemy.engine.base.Engine (44,)\n"
       ]
      },
      {
       "output_type": "stream",
       "stream": "stderr",
       "text": [
        "INFO:sqlalchemy.engine.base.Engine:(44,)\n"
       ]
      },
      {
       "output_type": "stream",
       "stream": "stdout",
       "text": [
        "2014-04-23 18:55:59,618 INFO sqlalchemy.engine.base.Engine SELECT years.id AS years_id, years.year AS years_year \n",
        "FROM years \n",
        "WHERE years.id = ?\n"
       ]
      },
      {
       "output_type": "stream",
       "stream": "stderr",
       "text": [
        "INFO:sqlalchemy.engine.base.Engine:SELECT years.id AS years_id, years.year AS years_year \n",
        "FROM years \n",
        "WHERE years.id = ?\n"
       ]
      },
      {
       "output_type": "stream",
       "stream": "stdout",
       "text": [
        "2014-04-23 18:55:59,619 INFO sqlalchemy.engine.base.Engine (45,)\n"
       ]
      },
      {
       "output_type": "stream",
       "stream": "stderr",
       "text": [
        "INFO:sqlalchemy.engine.base.Engine:(45,)\n"
       ]
      },
      {
       "output_type": "stream",
       "stream": "stdout",
       "text": [
        "2014-04-23 18:55:59,621 INFO sqlalchemy.engine.base.Engine SELECT years.id AS years_id, years.year AS years_year \n",
        "FROM years \n",
        "WHERE years.id = ?\n"
       ]
      },
      {
       "output_type": "stream",
       "stream": "stderr",
       "text": [
        "INFO:sqlalchemy.engine.base.Engine:SELECT years.id AS years_id, years.year AS years_year \n",
        "FROM years \n",
        "WHERE years.id = ?\n"
       ]
      },
      {
       "output_type": "stream",
       "stream": "stdout",
       "text": [
        "2014-04-23 18:55:59,622 INFO sqlalchemy.engine.base.Engine (46,)\n"
       ]
      },
      {
       "output_type": "stream",
       "stream": "stderr",
       "text": [
        "INFO:sqlalchemy.engine.base.Engine:(46,)\n"
       ]
      },
      {
       "output_type": "stream",
       "stream": "stdout",
       "text": [
        "2014-04-23 18:55:59,625 INFO sqlalchemy.engine.base.Engine SELECT years.id AS years_id, years.year AS years_year \n",
        "FROM years \n",
        "WHERE years.id = ?\n"
       ]
      },
      {
       "output_type": "stream",
       "stream": "stderr",
       "text": [
        "INFO:sqlalchemy.engine.base.Engine:SELECT years.id AS years_id, years.year AS years_year \n",
        "FROM years \n",
        "WHERE years.id = ?\n"
       ]
      },
      {
       "output_type": "stream",
       "stream": "stdout",
       "text": [
        "2014-04-23 18:55:59,626 INFO sqlalchemy.engine.base.Engine (47,)\n"
       ]
      },
      {
       "output_type": "stream",
       "stream": "stderr",
       "text": [
        "INFO:sqlalchemy.engine.base.Engine:(47,)\n"
       ]
      },
      {
       "output_type": "stream",
       "stream": "stdout",
       "text": [
        "2014-04-23 18:55:59,629 INFO sqlalchemy.engine.base.Engine SELECT years.id AS years_id, years.year AS years_year \n",
        "FROM years \n",
        "WHERE years.id = ?\n"
       ]
      },
      {
       "output_type": "stream",
       "stream": "stderr",
       "text": [
        "INFO:sqlalchemy.engine.base.Engine:SELECT years.id AS years_id, years.year AS years_year \n",
        "FROM years \n",
        "WHERE years.id = ?\n"
       ]
      },
      {
       "output_type": "stream",
       "stream": "stdout",
       "text": [
        "2014-04-23 18:55:59,631 INFO sqlalchemy.engine.base.Engine (48,)\n"
       ]
      },
      {
       "output_type": "stream",
       "stream": "stderr",
       "text": [
        "INFO:sqlalchemy.engine.base.Engine:(48,)\n"
       ]
      },
      {
       "output_type": "stream",
       "stream": "stdout",
       "text": [
        "2014-04-23 18:55:59,634 INFO sqlalchemy.engine.base.Engine SELECT years.id AS years_id, years.year AS years_year \n",
        "FROM years \n",
        "WHERE years.id = ?\n"
       ]
      },
      {
       "output_type": "stream",
       "stream": "stderr",
       "text": [
        "INFO:sqlalchemy.engine.base.Engine:SELECT years.id AS years_id, years.year AS years_year \n",
        "FROM years \n",
        "WHERE years.id = ?\n"
       ]
      },
      {
       "output_type": "stream",
       "stream": "stdout",
       "text": [
        "2014-04-23 18:55:59,635 INFO sqlalchemy.engine.base.Engine (49,)\n"
       ]
      },
      {
       "output_type": "stream",
       "stream": "stderr",
       "text": [
        "INFO:sqlalchemy.engine.base.Engine:(49,)\n"
       ]
      },
      {
       "output_type": "stream",
       "stream": "stdout",
       "text": [
        "2014-04-23 18:55:59,637 INFO sqlalchemy.engine.base.Engine SELECT years.id AS years_id, years.year AS years_year \n",
        "FROM years \n",
        "WHERE years.id = ?\n"
       ]
      },
      {
       "output_type": "stream",
       "stream": "stderr",
       "text": [
        "INFO:sqlalchemy.engine.base.Engine:SELECT years.id AS years_id, years.year AS years_year \n",
        "FROM years \n",
        "WHERE years.id = ?\n"
       ]
      },
      {
       "output_type": "stream",
       "stream": "stdout",
       "text": [
        "2014-04-23 18:55:59,638 INFO sqlalchemy.engine.base.Engine (50,)\n"
       ]
      },
      {
       "output_type": "stream",
       "stream": "stderr",
       "text": [
        "INFO:sqlalchemy.engine.base.Engine:(50,)\n"
       ]
      },
      {
       "output_type": "stream",
       "stream": "stdout",
       "text": [
        "2014-04-23 18:55:59,641 INFO sqlalchemy.engine.base.Engine SELECT years.id AS years_id, years.year AS years_year \n",
        "FROM years \n",
        "WHERE years.id = ?\n"
       ]
      },
      {
       "output_type": "stream",
       "stream": "stderr",
       "text": [
        "INFO:sqlalchemy.engine.base.Engine:SELECT years.id AS years_id, years.year AS years_year \n",
        "FROM years \n",
        "WHERE years.id = ?\n"
       ]
      },
      {
       "output_type": "stream",
       "stream": "stdout",
       "text": [
        "2014-04-23 18:55:59,642 INFO sqlalchemy.engine.base.Engine (51,)\n"
       ]
      },
      {
       "output_type": "stream",
       "stream": "stderr",
       "text": [
        "INFO:sqlalchemy.engine.base.Engine:(51,)\n"
       ]
      },
      {
       "output_type": "stream",
       "stream": "stdout",
       "text": [
        "2014-04-23 18:55:59,645 INFO sqlalchemy.engine.base.Engine SELECT years.id AS years_id, years.year AS years_year \n",
        "FROM years \n",
        "WHERE years.id = ?\n"
       ]
      },
      {
       "output_type": "stream",
       "stream": "stderr",
       "text": [
        "INFO:sqlalchemy.engine.base.Engine:SELECT years.id AS years_id, years.year AS years_year \n",
        "FROM years \n",
        "WHERE years.id = ?\n"
       ]
      },
      {
       "output_type": "stream",
       "stream": "stdout",
       "text": [
        "2014-04-23 18:55:59,646 INFO sqlalchemy.engine.base.Engine (52,)\n"
       ]
      },
      {
       "output_type": "stream",
       "stream": "stderr",
       "text": [
        "INFO:sqlalchemy.engine.base.Engine:(52,)\n"
       ]
      },
      {
       "output_type": "stream",
       "stream": "stdout",
       "text": [
        "2014-04-23 18:55:59,649 INFO sqlalchemy.engine.base.Engine SELECT years.id AS years_id, years.year AS years_year \n",
        "FROM years \n",
        "WHERE years.id = ?\n"
       ]
      },
      {
       "output_type": "stream",
       "stream": "stderr",
       "text": [
        "INFO:sqlalchemy.engine.base.Engine:SELECT years.id AS years_id, years.year AS years_year \n",
        "FROM years \n",
        "WHERE years.id = ?\n"
       ]
      },
      {
       "output_type": "stream",
       "stream": "stdout",
       "text": [
        "2014-04-23 18:55:59,651 INFO sqlalchemy.engine.base.Engine (53,)\n"
       ]
      },
      {
       "output_type": "stream",
       "stream": "stderr",
       "text": [
        "INFO:sqlalchemy.engine.base.Engine:(53,)\n"
       ]
      },
      {
       "output_type": "stream",
       "stream": "stdout",
       "text": [
        "2014-04-23 18:55:59,655 INFO sqlalchemy.engine.base.Engine SELECT years.id AS years_id, years.year AS years_year \n",
        "FROM years \n",
        "WHERE years.id = ?\n"
       ]
      },
      {
       "output_type": "stream",
       "stream": "stderr",
       "text": [
        "INFO:sqlalchemy.engine.base.Engine:SELECT years.id AS years_id, years.year AS years_year \n",
        "FROM years \n",
        "WHERE years.id = ?\n"
       ]
      },
      {
       "output_type": "stream",
       "stream": "stdout",
       "text": [
        "2014-04-23 18:55:59,656 INFO sqlalchemy.engine.base.Engine (54,)\n"
       ]
      },
      {
       "output_type": "stream",
       "stream": "stderr",
       "text": [
        "INFO:sqlalchemy.engine.base.Engine:(54,)\n"
       ]
      },
      {
       "output_type": "stream",
       "stream": "stdout",
       "text": [
        "2014-04-23 18:55:59,660 INFO sqlalchemy.engine.base.Engine SELECT years.id AS years_id, years.year AS years_year \n",
        "FROM years \n",
        "WHERE years.id = ?\n"
       ]
      },
      {
       "output_type": "stream",
       "stream": "stderr",
       "text": [
        "INFO:sqlalchemy.engine.base.Engine:SELECT years.id AS years_id, years.year AS years_year \n",
        "FROM years \n",
        "WHERE years.id = ?\n"
       ]
      },
      {
       "output_type": "stream",
       "stream": "stdout",
       "text": [
        "2014-04-23 18:55:59,661 INFO sqlalchemy.engine.base.Engine (55,)\n"
       ]
      },
      {
       "output_type": "stream",
       "stream": "stderr",
       "text": [
        "INFO:sqlalchemy.engine.base.Engine:(55,)\n"
       ]
      },
      {
       "output_type": "stream",
       "stream": "stdout",
       "text": [
        "2014-04-23 18:55:59,664 INFO sqlalchemy.engine.base.Engine SELECT table_types.id AS table_types_id, table_types.type_name AS table_types_type_name \n",
        "FROM table_types \n",
        "WHERE table_types.id = ?\n"
       ]
      },
      {
       "output_type": "stream",
       "stream": "stderr",
       "text": [
        "INFO:sqlalchemy.engine.base.Engine:SELECT table_types.id AS table_types_id, table_types.type_name AS table_types_type_name \n",
        "FROM table_types \n",
        "WHERE table_types.id = ?\n"
       ]
      },
      {
       "output_type": "stream",
       "stream": "stdout",
       "text": [
        "2014-04-23 18:55:59,665 INFO sqlalchemy.engine.base.Engine (2,)\n"
       ]
      },
      {
       "output_type": "stream",
       "stream": "stderr",
       "text": [
        "INFO:sqlalchemy.engine.base.Engine:(2,)\n"
       ]
      },
      {
       "output_type": "stream",
       "stream": "stdout",
       "text": [
        "2014-04-23 18:55:59,670 INFO sqlalchemy.engine.base.Engine SELECT table_types.id AS table_types_id, table_types.type_name AS table_types_type_name \n",
        "FROM table_types \n",
        "WHERE table_types.id = ?\n"
       ]
      },
      {
       "output_type": "stream",
       "stream": "stderr",
       "text": [
        "INFO:sqlalchemy.engine.base.Engine:SELECT table_types.id AS table_types_id, table_types.type_name AS table_types_type_name \n",
        "FROM table_types \n",
        "WHERE table_types.id = ?\n"
       ]
      },
      {
       "output_type": "stream",
       "stream": "stdout",
       "text": [
        "2014-04-23 18:55:59,671 INFO sqlalchemy.engine.base.Engine (3,)\n"
       ]
      },
      {
       "output_type": "stream",
       "stream": "stderr",
       "text": [
        "INFO:sqlalchemy.engine.base.Engine:(3,)\n"
       ]
      },
      {
       "metadata": {},
       "output_type": "display_data",
       "png": "[encoded data removed]",
       "text": [
        "<matplotlib.figure.Figure at 0x107108d50>"
       ]
      }
     ],
     "prompt_number": 2
    },
    {
     "cell_type": "code",
     "collapsed": false,
     "input": [
      "player.graph('foosf', 'totals')"
     ],
     "language": "python",
     "metadata": {},
     "outputs": [
      {
       "ename": "StatTypeError",
       "evalue": "",
       "output_type": "pyerr",
       "traceback": [
        "\u001b[0;31m---------------------------------------------------------------------------\u001b[0m\n\u001b[0;31mStatTypeError\u001b[0m                             Traceback (most recent call last)",
        "\u001b[0;32m<ipython-input-3-56909a6ddc94>\u001b[0m in \u001b[0;36m<module>\u001b[0;34m()\u001b[0m\n\u001b[0;32m----> 1\u001b[0;31m \u001b[0mplayer\u001b[0m\u001b[0;34m.\u001b[0m\u001b[0mgraph\u001b[0m\u001b[0;34m(\u001b[0m\u001b[0;34m'foosf'\u001b[0m\u001b[0;34m,\u001b[0m \u001b[0;34m'totals'\u001b[0m\u001b[0;34m)\u001b[0m\u001b[0;34m\u001b[0m\u001b[0m\n\u001b[0m",
        "\u001b[0;32m/Users/bneuman/br-suggest/player_data/player_data.py\u001b[0m in \u001b[0;36mgraph\u001b[0;34m(self, stat_type, table_type)\u001b[0m\n\u001b[1;32m     28\u001b[0m     \u001b[0;32mdef\u001b[0m \u001b[0mgraph\u001b[0m\u001b[0;34m(\u001b[0m\u001b[0mself\u001b[0m\u001b[0;34m,\u001b[0m \u001b[0mstat_type\u001b[0m\u001b[0;34m,\u001b[0m \u001b[0mtable_type\u001b[0m\u001b[0;34m)\u001b[0m\u001b[0;34m:\u001b[0m\u001b[0;34m\u001b[0m\u001b[0m\n\u001b[1;32m     29\u001b[0m         \u001b[0;32mif\u001b[0m \u001b[0mstat_type\u001b[0m \u001b[0;32mnot\u001b[0m \u001b[0;32min\u001b[0m \u001b[0mself\u001b[0m\u001b[0;34m.\u001b[0m\u001b[0mcolumns\u001b[0m\u001b[0;34m:\u001b[0m\u001b[0;34m\u001b[0m\u001b[0m\n\u001b[0;32m---> 30\u001b[0;31m             \u001b[0;32mraise\u001b[0m \u001b[0mStatTypeError\u001b[0m\u001b[0;34m\u001b[0m\u001b[0m\n\u001b[0m\u001b[1;32m     31\u001b[0m \u001b[0;34m\u001b[0m\u001b[0m\n\u001b[1;32m     32\u001b[0m         \u001b[0;32mif\u001b[0m \u001b[0mtable_type\u001b[0m \u001b[0;34m==\u001b[0m \u001b[0;34m'totals'\u001b[0m\u001b[0;34m:\u001b[0m\u001b[0;34m\u001b[0m\u001b[0m\n",
        "\u001b[0;31mStatTypeError\u001b[0m: "
       ]
      }
     ],
     "prompt_number": 3
    },
    {
     "cell_type": "code",
     "collapsed": false,
     "input": [],
     "language": "python",
     "metadata": {},
     "outputs": []
    }
   ],
   "metadata": {}
  }
 ]
}