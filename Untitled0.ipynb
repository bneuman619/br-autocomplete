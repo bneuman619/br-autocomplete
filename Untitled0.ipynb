{
 "metadata": {
  "name": "",
  "signature": "sha256:147bdfea8352f7a722508571b7a0d3b5243745bcb88f20a95382ba61caf4b2ac"
 },
 "nbformat": 3,
 "nbformat_minor": 0,
 "worksheets": [
  {
   "cells": [
    {
     "cell_type": "code",
     "collapsed": false,
     "input": [
      "def some_func(arg):\n",
      "    return arg[::-1]"
     ],
     "language": "python",
     "metadata": {},
     "outputs": [],
     "prompt_number": 2
    },
    {
     "cell_type": "code",
     "collapsed": false,
     "input": [
      "some_func(\"garbage\")"
     ],
     "language": "python",
     "metadata": {},
     "outputs": [
      {
       "metadata": {},
       "output_type": "pyout",
       "prompt_number": 3,
       "text": [
        "'egabrag'"
       ]
      }
     ],
     "prompt_number": 3
    },
    {
     "cell_type": "code",
     "collapsed": false,
     "input": [
      "import br_player_finder"
     ],
     "language": "python",
     "metadata": {},
     "outputs": [],
     "prompt_number": 4
    },
    {
     "cell_type": "code",
     "collapsed": false,
     "input": [
      "import player_scraper.br_player_scraper as scrp"
     ],
     "language": "python",
     "metadata": {},
     "outputs": [],
     "prompt_number": 10
    },
    {
     "cell_type": "code",
     "collapsed": false,
     "input": [
      "import player_scraper.scrape_curry as cur"
     ],
     "language": "python",
     "metadata": {},
     "outputs": [],
     "prompt_number": 11
    },
    {
     "cell_type": "code",
     "collapsed": false,
     "input": [
      "curry = cur.make_curry()"
     ],
     "language": "python",
     "metadata": {},
     "outputs": [],
     "prompt_number": 12
    },
    {
     "cell_type": "code",
     "collapsed": false,
     "input": [
      "curry['totals'].panda"
     ],
     "language": "python",
     "metadata": {},
     "outputs": [
      {
       "ename": "AttributeError",
       "evalue": "",
       "output_type": "pyerr",
       "traceback": [
        "\u001b[0;31m---------------------------------------------------------------------------\u001b[0m\n\u001b[0;31mAttributeError\u001b[0m                            Traceback (most recent call last)",
        "\u001b[0;32m<ipython-input-13-9a7ce9f32c30>\u001b[0m in \u001b[0;36m<module>\u001b[0;34m()\u001b[0m\n\u001b[0;32m----> 1\u001b[0;31m \u001b[0mcurry\u001b[0m\u001b[0;34m[\u001b[0m\u001b[0;34m'totals'\u001b[0m\u001b[0;34m]\u001b[0m\u001b[0;34m.\u001b[0m\u001b[0mpanda\u001b[0m\u001b[0;34m\u001b[0m\u001b[0m\n\u001b[0m",
        "\u001b[0;32m/Users/bneuman/br-suggest/player_scraper/player_stats.pyc\u001b[0m in \u001b[0;36m__getattr__\u001b[0;34m(self, attr)\u001b[0m\n\u001b[1;32m     11\u001b[0m                 \u001b[0;32mreturn\u001b[0m \u001b[0mtable\u001b[0m\u001b[0;34m\u001b[0m\u001b[0m\n\u001b[1;32m     12\u001b[0m \u001b[0;34m\u001b[0m\u001b[0m\n\u001b[0;32m---> 13\u001b[0;31m         \u001b[0;32mraise\u001b[0m \u001b[0mAttributeError\u001b[0m\u001b[0;34m\u001b[0m\u001b[0m\n\u001b[0m\u001b[1;32m     14\u001b[0m \u001b[0;34m\u001b[0m\u001b[0m\n\u001b[1;32m     15\u001b[0m     \u001b[0;32mdef\u001b[0m \u001b[0m__repr__\u001b[0m\u001b[0;34m(\u001b[0m\u001b[0mself\u001b[0m\u001b[0;34m)\u001b[0m\u001b[0;34m:\u001b[0m\u001b[0;34m\u001b[0m\u001b[0m\n",
        "\u001b[0;31mAttributeError\u001b[0m: "
       ]
      }
     ],
     "prompt_number": 13
    },
    {
     "cell_type": "code",
     "collapsed": false,
     "input": [
      "curry['total'].panda"
     ],
     "language": "python",
     "metadata": {},
     "outputs": [
      {
       "ename": "AttributeError",
       "evalue": "",
       "output_type": "pyerr",
       "traceback": [
        "\u001b[0;31m---------------------------------------------------------------------------\u001b[0m\n\u001b[0;31mAttributeError\u001b[0m                            Traceback (most recent call last)",
        "\u001b[0;32m<ipython-input-14-e9b2ab511f27>\u001b[0m in \u001b[0;36m<module>\u001b[0;34m()\u001b[0m\n\u001b[0;32m----> 1\u001b[0;31m \u001b[0mcurry\u001b[0m\u001b[0;34m[\u001b[0m\u001b[0;34m'total'\u001b[0m\u001b[0;34m]\u001b[0m\u001b[0;34m.\u001b[0m\u001b[0mpanda\u001b[0m\u001b[0;34m\u001b[0m\u001b[0m\n\u001b[0m",
        "\u001b[0;32m/Users/bneuman/br-suggest/player_scraper/player_stats.pyc\u001b[0m in \u001b[0;36m__getattr__\u001b[0;34m(self, attr)\u001b[0m\n\u001b[1;32m     11\u001b[0m                 \u001b[0;32mreturn\u001b[0m \u001b[0mtable\u001b[0m\u001b[0;34m\u001b[0m\u001b[0m\n\u001b[1;32m     12\u001b[0m \u001b[0;34m\u001b[0m\u001b[0m\n\u001b[0;32m---> 13\u001b[0;31m         \u001b[0;32mraise\u001b[0m \u001b[0mAttributeError\u001b[0m\u001b[0;34m\u001b[0m\u001b[0m\n\u001b[0m\u001b[1;32m     14\u001b[0m \u001b[0;34m\u001b[0m\u001b[0m\n\u001b[1;32m     15\u001b[0m     \u001b[0;32mdef\u001b[0m \u001b[0m__repr__\u001b[0m\u001b[0;34m(\u001b[0m\u001b[0mself\u001b[0m\u001b[0;34m)\u001b[0m\u001b[0;34m:\u001b[0m\u001b[0;34m\u001b[0m\u001b[0m\n",
        "\u001b[0;31mAttributeError\u001b[0m: "
       ]
      }
     ],
     "prompt_number": 14
    },
    {
     "cell_type": "code",
     "collapsed": false,
     "input": [
      "curry.table_names()"
     ],
     "language": "python",
     "metadata": {},
     "outputs": [
      {
       "metadata": {},
       "output_type": "pyout",
       "prompt_number": 16,
       "text": [
        "[u'totals',\n",
        " u'per_game',\n",
        " u'per_minute',\n",
        " u'advanced',\n",
        " u'shooting',\n",
        " u'advanced_pbp',\n",
        " u'playoffs_totals',\n",
        " u'playoffs_per_game',\n",
        " u'playoffs_per_minute',\n",
        " u'playoffs_advanced',\n",
        " u'playoffs_shooting',\n",
        " u'playoffs_advanced_pbp']"
       ]
      }
     ],
     "prompt_number": 16
    },
    {
     "cell_type": "code",
     "collapsed": false,
     "input": [
      "curry.totals['2P']"
     ],
     "language": "python",
     "metadata": {},
     "outputs": [
      {
       "metadata": {},
       "output_type": "pyout",
       "prompt_number": 22,
       "text": [
        "2009-10    362\n",
        "2010-11    354\n",
        "2011-12     90\n",
        "2012-13    354\n",
        "2013-14    391\n",
        "Name: 2P, dtype: object"
       ]
      }
     ],
     "prompt_number": 22
    },
    {
     "cell_type": "code",
     "collapsed": false,
     "input": [
      "curry.totals.panda"
     ],
     "language": "python",
     "metadata": {},
     "outputs": [
      {
       "html": [
        "<div style=\"max-height:1000px;max-width:1500px;overflow:auto;\">\n",
        "<table border=\"1\" class=\"dataframe\">\n",
        "  <thead>\n",
        "    <tr style=\"text-align: right;\">\n",
        "      <th></th>\n",
        "      <th>2009-10</th>\n",
        "      <th>2010-11</th>\n",
        "      <th>2011-12</th>\n",
        "      <th>2012-13</th>\n",
        "      <th>2013-14</th>\n",
        "    </tr>\n",
        "  </thead>\n",
        "  <tbody>\n",
        "    <tr>\n",
        "      <th>2P</th>\n",
        "      <td>  362</td>\n",
        "      <td>  354</td>\n",
        "      <td>   90</td>\n",
        "      <td>  354</td>\n",
        "      <td>  391</td>\n",
        "    </tr>\n",
        "    <tr>\n",
        "      <th>2P%</th>\n",
        "      <td> .474</td>\n",
        "      <td> .498</td>\n",
        "      <td> .514</td>\n",
        "      <td> .449</td>\n",
        "      <td> .509</td>\n",
        "    </tr>\n",
        "    <tr>\n",
        "      <th>2PA</th>\n",
        "      <td>  763</td>\n",
        "      <td>  711</td>\n",
        "      <td>  175</td>\n",
        "      <td>  788</td>\n",
        "      <td>  768</td>\n",
        "    </tr>\n",
        "    <tr>\n",
        "      <th>3P</th>\n",
        "      <td>  166</td>\n",
        "      <td>  151</td>\n",
        "      <td>   55</td>\n",
        "      <td>  272</td>\n",
        "      <td>  261</td>\n",
        "    </tr>\n",
        "    <tr>\n",
        "      <th>3P%</th>\n",
        "      <td> .437</td>\n",
        "      <td> .442</td>\n",
        "      <td> .455</td>\n",
        "      <td> .453</td>\n",
        "      <td> .424</td>\n",
        "    </tr>\n",
        "    <tr>\n",
        "      <th>3PA</th>\n",
        "      <td>  380</td>\n",
        "      <td>  342</td>\n",
        "      <td>  121</td>\n",
        "      <td>  600</td>\n",
        "      <td>  615</td>\n",
        "    </tr>\n",
        "    <tr>\n",
        "      <th>AST</th>\n",
        "      <td>  472</td>\n",
        "      <td>  432</td>\n",
        "      <td>  138</td>\n",
        "      <td>  539</td>\n",
        "      <td>  666</td>\n",
        "    </tr>\n",
        "    <tr>\n",
        "      <th>Age</th>\n",
        "      <td>   21</td>\n",
        "      <td>   22</td>\n",
        "      <td>   23</td>\n",
        "      <td>   24</td>\n",
        "      <td>   25</td>\n",
        "    </tr>\n",
        "    <tr>\n",
        "      <th>BLK</th>\n",
        "      <td>   19</td>\n",
        "      <td>   20</td>\n",
        "      <td>    8</td>\n",
        "      <td>   12</td>\n",
        "      <td>   14</td>\n",
        "    </tr>\n",
        "    <tr>\n",
        "      <th>DRB</th>\n",
        "      <td>  308</td>\n",
        "      <td>  234</td>\n",
        "      <td>   73</td>\n",
        "      <td>  255</td>\n",
        "      <td>  288</td>\n",
        "    </tr>\n",
        "    <tr>\n",
        "      <th>FG</th>\n",
        "      <td>  528</td>\n",
        "      <td>  505</td>\n",
        "      <td>  145</td>\n",
        "      <td>  626</td>\n",
        "      <td>  652</td>\n",
        "    </tr>\n",
        "    <tr>\n",
        "      <th>FG%</th>\n",
        "      <td> .462</td>\n",
        "      <td> .480</td>\n",
        "      <td> .490</td>\n",
        "      <td> .451</td>\n",
        "      <td> .471</td>\n",
        "    </tr>\n",
        "    <tr>\n",
        "      <th>FGA</th>\n",
        "      <td> 1143</td>\n",
        "      <td> 1053</td>\n",
        "      <td>  296</td>\n",
        "      <td> 1388</td>\n",
        "      <td> 1383</td>\n",
        "    </tr>\n",
        "    <tr>\n",
        "      <th>FT</th>\n",
        "      <td>  177</td>\n",
        "      <td>  212</td>\n",
        "      <td>   38</td>\n",
        "      <td>  262</td>\n",
        "      <td>  308</td>\n",
        "    </tr>\n",
        "    <tr>\n",
        "      <th>FT%</th>\n",
        "      <td> .885</td>\n",
        "      <td> .934</td>\n",
        "      <td> .809</td>\n",
        "      <td> .900</td>\n",
        "      <td> .885</td>\n",
        "    </tr>\n",
        "    <tr>\n",
        "      <th>FTA</th>\n",
        "      <td>  200</td>\n",
        "      <td>  227</td>\n",
        "      <td>   47</td>\n",
        "      <td>  291</td>\n",
        "      <td>  348</td>\n",
        "    </tr>\n",
        "    <tr>\n",
        "      <th>G</th>\n",
        "      <td>   80</td>\n",
        "      <td>   74</td>\n",
        "      <td>   26</td>\n",
        "      <td>   78</td>\n",
        "      <td>   78</td>\n",
        "    </tr>\n",
        "    <tr>\n",
        "      <th>GS</th>\n",
        "      <td>   77</td>\n",
        "      <td>   74</td>\n",
        "      <td>   23</td>\n",
        "      <td>   78</td>\n",
        "      <td>   78</td>\n",
        "    </tr>\n",
        "    <tr>\n",
        "      <th>Lg</th>\n",
        "      <td>  NBA</td>\n",
        "      <td>  NBA</td>\n",
        "      <td>  NBA</td>\n",
        "      <td>  NBA</td>\n",
        "      <td>  NBA</td>\n",
        "    </tr>\n",
        "    <tr>\n",
        "      <th>MP</th>\n",
        "      <td> 2896</td>\n",
        "      <td> 2489</td>\n",
        "      <td>  732</td>\n",
        "      <td> 2983</td>\n",
        "      <td> 2846</td>\n",
        "    </tr>\n",
        "    <tr>\n",
        "      <th>ORB</th>\n",
        "      <td>   48</td>\n",
        "      <td>   52</td>\n",
        "      <td>   15</td>\n",
        "      <td>   59</td>\n",
        "      <td>   46</td>\n",
        "    </tr>\n",
        "    <tr>\n",
        "      <th>PF</th>\n",
        "      <td>  252</td>\n",
        "      <td>  233</td>\n",
        "      <td>   62</td>\n",
        "      <td>  198</td>\n",
        "      <td>  194</td>\n",
        "    </tr>\n",
        "    <tr>\n",
        "      <th>PTS</th>\n",
        "      <td> 1399</td>\n",
        "      <td> 1373</td>\n",
        "      <td>  383</td>\n",
        "      <td> 1786</td>\n",
        "      <td> 1873</td>\n",
        "    </tr>\n",
        "    <tr>\n",
        "      <th>Pos</th>\n",
        "      <td>   PG</td>\n",
        "      <td>   PG</td>\n",
        "      <td>   PG</td>\n",
        "      <td>   PG</td>\n",
        "      <td>   PG</td>\n",
        "    </tr>\n",
        "    <tr>\n",
        "      <th>STL</th>\n",
        "      <td>  152</td>\n",
        "      <td>  109</td>\n",
        "      <td>   39</td>\n",
        "      <td>  126</td>\n",
        "      <td>  127</td>\n",
        "    </tr>\n",
        "    <tr>\n",
        "      <th>TOV</th>\n",
        "      <td>  243</td>\n",
        "      <td>  226</td>\n",
        "      <td>   65</td>\n",
        "      <td>  240</td>\n",
        "      <td>  294</td>\n",
        "    </tr>\n",
        "    <tr>\n",
        "      <th>TRB</th>\n",
        "      <td>  356</td>\n",
        "      <td>  286</td>\n",
        "      <td>   88</td>\n",
        "      <td>  314</td>\n",
        "      <td>  334</td>\n",
        "    </tr>\n",
        "    <tr>\n",
        "      <th>Tm</th>\n",
        "      <td>  GSW</td>\n",
        "      <td>  GSW</td>\n",
        "      <td>  GSW</td>\n",
        "      <td>  GSW</td>\n",
        "      <td>  GSW</td>\n",
        "    </tr>\n",
        "  </tbody>\n",
        "</table>\n",
        "<p>28 rows \u00d7 5 columns</p>\n",
        "</div>"
       ],
       "metadata": {},
       "output_type": "pyout",
       "prompt_number": 25,
       "text": [
        "    2009-10 2010-11 2011-12 2012-13 2013-14\n",
        "2P      362     354      90     354     391\n",
        "2P%    .474    .498    .514    .449    .509\n",
        "2PA     763     711     175     788     768\n",
        "3P      166     151      55     272     261\n",
        "3P%    .437    .442    .455    .453    .424\n",
        "3PA     380     342     121     600     615\n",
        "AST     472     432     138     539     666\n",
        "Age      21      22      23      24      25\n",
        "BLK      19      20       8      12      14\n",
        "DRB     308     234      73     255     288\n",
        "FG      528     505     145     626     652\n",
        "FG%    .462    .480    .490    .451    .471\n",
        "FGA    1143    1053     296    1388    1383\n",
        "FT      177     212      38     262     308\n",
        "FT%    .885    .934    .809    .900    .885\n",
        "FTA     200     227      47     291     348\n",
        "G        80      74      26      78      78\n",
        "GS       77      74      23      78      78\n",
        "Lg      NBA     NBA     NBA     NBA     NBA\n",
        "MP     2896    2489     732    2983    2846\n",
        "ORB      48      52      15      59      46\n",
        "PF      252     233      62     198     194\n",
        "PTS    1399    1373     383    1786    1873\n",
        "Pos      PG      PG      PG      PG      PG\n",
        "STL     152     109      39     126     127\n",
        "TOV     243     226      65     240     294\n",
        "TRB     356     286      88     314     334\n",
        "Tm      GSW     GSW     GSW     GSW     GSW\n",
        "\n",
        "[28 rows x 5 columns]"
       ]
      }
     ],
     "prompt_number": 25
    },
    {
     "cell_type": "code",
     "collapsed": false,
     "input": [
      "import pandas as pd"
     ],
     "language": "python",
     "metadata": {},
     "outputs": [],
     "prompt_number": 40
    },
    {
     "cell_type": "code",
     "collapsed": false,
     "input": [
      "pd.Series.plot(curry.totals.panda.loc['2P'])"
     ],
     "language": "python",
     "metadata": {},
     "outputs": [
      {
       "ename": "TypeError",
       "evalue": "Empty 'Series': no numeric data to plot",
       "output_type": "pyerr",
       "traceback": [
        "\u001b[0;31m---------------------------------------------------------------------------\u001b[0m\n\u001b[0;31mTypeError\u001b[0m                                 Traceback (most recent call last)",
        "\u001b[0;32m<ipython-input-41-1c227fec939d>\u001b[0m in \u001b[0;36m<module>\u001b[0;34m()\u001b[0m\n\u001b[0;32m----> 1\u001b[0;31m \u001b[0mpd\u001b[0m\u001b[0;34m.\u001b[0m\u001b[0mSeries\u001b[0m\u001b[0;34m.\u001b[0m\u001b[0mplot\u001b[0m\u001b[0;34m(\u001b[0m\u001b[0mcurry\u001b[0m\u001b[0;34m.\u001b[0m\u001b[0mtotals\u001b[0m\u001b[0;34m.\u001b[0m\u001b[0mpanda\u001b[0m\u001b[0;34m.\u001b[0m\u001b[0mloc\u001b[0m\u001b[0;34m[\u001b[0m\u001b[0;34m'2P'\u001b[0m\u001b[0;34m]\u001b[0m\u001b[0;34m)\u001b[0m\u001b[0;34m\u001b[0m\u001b[0m\n\u001b[0m",
        "\u001b[0;32m/usr/local/Cellar/python/2.7.6/Frameworks/Python.framework/Versions/2.7/lib/python2.7/site-packages/pandas/tools/plotting.pyc\u001b[0m in \u001b[0;36mplot_series\u001b[0;34m(series, label, kind, use_index, rot, xticks, yticks, xlim, ylim, ax, style, grid, legend, logx, logy, secondary_y, **kwds)\u001b[0m\n\u001b[1;32m   1827\u001b[0m                      secondary_y=secondary_y, **kwds)\n\u001b[1;32m   1828\u001b[0m \u001b[0;34m\u001b[0m\u001b[0m\n\u001b[0;32m-> 1829\u001b[0;31m     \u001b[0mplot_obj\u001b[0m\u001b[0;34m.\u001b[0m\u001b[0mgenerate\u001b[0m\u001b[0;34m(\u001b[0m\u001b[0;34m)\u001b[0m\u001b[0;34m\u001b[0m\u001b[0m\n\u001b[0m\u001b[1;32m   1830\u001b[0m     \u001b[0mplot_obj\u001b[0m\u001b[0;34m.\u001b[0m\u001b[0mdraw\u001b[0m\u001b[0;34m(\u001b[0m\u001b[0;34m)\u001b[0m\u001b[0;34m\u001b[0m\u001b[0m\n\u001b[1;32m   1831\u001b[0m \u001b[0;34m\u001b[0m\u001b[0m\n",
        "\u001b[0;32m/usr/local/Cellar/python/2.7.6/Frameworks/Python.framework/Versions/2.7/lib/python2.7/site-packages/pandas/tools/plotting.pyc\u001b[0m in \u001b[0;36mgenerate\u001b[0;34m(self)\u001b[0m\n\u001b[1;32m    901\u001b[0m     \u001b[0;32mdef\u001b[0m \u001b[0mgenerate\u001b[0m\u001b[0;34m(\u001b[0m\u001b[0mself\u001b[0m\u001b[0;34m)\u001b[0m\u001b[0;34m:\u001b[0m\u001b[0;34m\u001b[0m\u001b[0m\n\u001b[1;32m    902\u001b[0m         \u001b[0mself\u001b[0m\u001b[0;34m.\u001b[0m\u001b[0m_args_adjust\u001b[0m\u001b[0;34m(\u001b[0m\u001b[0;34m)\u001b[0m\u001b[0;34m\u001b[0m\u001b[0m\n\u001b[0;32m--> 903\u001b[0;31m         \u001b[0mself\u001b[0m\u001b[0;34m.\u001b[0m\u001b[0m_compute_plot_data\u001b[0m\u001b[0;34m(\u001b[0m\u001b[0;34m)\u001b[0m\u001b[0;34m\u001b[0m\u001b[0m\n\u001b[0m\u001b[1;32m    904\u001b[0m         \u001b[0mself\u001b[0m\u001b[0;34m.\u001b[0m\u001b[0m_setup_subplots\u001b[0m\u001b[0;34m(\u001b[0m\u001b[0;34m)\u001b[0m\u001b[0;34m\u001b[0m\u001b[0m\n\u001b[1;32m    905\u001b[0m         \u001b[0mself\u001b[0m\u001b[0;34m.\u001b[0m\u001b[0m_make_plot\u001b[0m\u001b[0;34m(\u001b[0m\u001b[0;34m)\u001b[0m\u001b[0;34m\u001b[0m\u001b[0m\n",
        "\u001b[0;32m/usr/local/Cellar/python/2.7.6/Frameworks/Python.framework/Versions/2.7/lib/python2.7/site-packages/pandas/tools/plotting.pyc\u001b[0m in \u001b[0;36m_compute_plot_data\u001b[0;34m(self)\u001b[0m\n\u001b[1;32m    982\u001b[0m         \u001b[0;32mif\u001b[0m \u001b[0mis_empty\u001b[0m\u001b[0;34m:\u001b[0m\u001b[0;34m\u001b[0m\u001b[0m\n\u001b[1;32m    983\u001b[0m             raise TypeError('Empty {0!r}: no numeric data to '\n\u001b[0;32m--> 984\u001b[0;31m                             'plot'.format(numeric_data.__class__.__name__))\n\u001b[0m\u001b[1;32m    985\u001b[0m \u001b[0;34m\u001b[0m\u001b[0m\n\u001b[1;32m    986\u001b[0m         \u001b[0mself\u001b[0m\u001b[0;34m.\u001b[0m\u001b[0mdata\u001b[0m \u001b[0;34m=\u001b[0m \u001b[0mnumeric_data\u001b[0m\u001b[0;34m\u001b[0m\u001b[0m\n",
        "\u001b[0;31mTypeError\u001b[0m: Empty 'Series': no numeric data to plot"
       ]
      }
     ],
     "prompt_number": 41
    },
    {
     "cell_type": "code",
     "collapsed": false,
     "input": [
      "good_series = curry.totals.panda.loc['2P']"
     ],
     "language": "python",
     "metadata": {},
     "outputs": [],
     "prompt_number": 42
    },
    {
     "cell_type": "code",
     "collapsed": false,
     "input": [
      "good_series"
     ],
     "language": "python",
     "metadata": {},
     "outputs": [
      {
       "metadata": {},
       "output_type": "pyout",
       "prompt_number": 43,
       "text": [
        "2009-10    362\n",
        "2010-11    354\n",
        "2011-12     90\n",
        "2012-13    354\n",
        "2013-14    391\n",
        "Name: 2P, dtype: object"
       ]
      }
     ],
     "prompt_number": 43
    },
    {
     "cell_type": "code",
     "collapsed": false,
     "input": [
      "good_series.values"
     ],
     "language": "python",
     "metadata": {},
     "outputs": [
      {
       "metadata": {},
       "output_type": "pyout",
       "prompt_number": 44,
       "text": [
        "array(['362', '354', '90', '354', '391'], dtype=object)"
       ]
      }
     ],
     "prompt_number": 44
    },
    {
     "cell_type": "code",
     "collapsed": false,
     "input": [
      "good_series.plot(kind='bar')"
     ],
     "language": "python",
     "metadata": {},
     "outputs": [
      {
       "ename": "TypeError",
       "evalue": "Empty 'Series': no numeric data to plot",
       "output_type": "pyerr",
       "traceback": [
        "\u001b[0;31m---------------------------------------------------------------------------\u001b[0m\n\u001b[0;31mTypeError\u001b[0m                                 Traceback (most recent call last)",
        "\u001b[0;32m<ipython-input-45-88a2e1c4c4f3>\u001b[0m in \u001b[0;36m<module>\u001b[0;34m()\u001b[0m\n\u001b[0;32m----> 1\u001b[0;31m \u001b[0mgood_series\u001b[0m\u001b[0;34m.\u001b[0m\u001b[0mplot\u001b[0m\u001b[0;34m(\u001b[0m\u001b[0mkind\u001b[0m\u001b[0;34m=\u001b[0m\u001b[0;34m'bar'\u001b[0m\u001b[0;34m)\u001b[0m\u001b[0;34m\u001b[0m\u001b[0m\n\u001b[0m",
        "\u001b[0;32m/usr/local/Cellar/python/2.7.6/Frameworks/Python.framework/Versions/2.7/lib/python2.7/site-packages/pandas/tools/plotting.pyc\u001b[0m in \u001b[0;36mplot_series\u001b[0;34m(series, label, kind, use_index, rot, xticks, yticks, xlim, ylim, ax, style, grid, legend, logx, logy, secondary_y, **kwds)\u001b[0m\n\u001b[1;32m   1827\u001b[0m                      secondary_y=secondary_y, **kwds)\n\u001b[1;32m   1828\u001b[0m \u001b[0;34m\u001b[0m\u001b[0m\n\u001b[0;32m-> 1829\u001b[0;31m     \u001b[0mplot_obj\u001b[0m\u001b[0;34m.\u001b[0m\u001b[0mgenerate\u001b[0m\u001b[0;34m(\u001b[0m\u001b[0;34m)\u001b[0m\u001b[0;34m\u001b[0m\u001b[0m\n\u001b[0m\u001b[1;32m   1830\u001b[0m     \u001b[0mplot_obj\u001b[0m\u001b[0;34m.\u001b[0m\u001b[0mdraw\u001b[0m\u001b[0;34m(\u001b[0m\u001b[0;34m)\u001b[0m\u001b[0;34m\u001b[0m\u001b[0m\n\u001b[1;32m   1831\u001b[0m \u001b[0;34m\u001b[0m\u001b[0m\n",
        "\u001b[0;32m/usr/local/Cellar/python/2.7.6/Frameworks/Python.framework/Versions/2.7/lib/python2.7/site-packages/pandas/tools/plotting.pyc\u001b[0m in \u001b[0;36mgenerate\u001b[0;34m(self)\u001b[0m\n\u001b[1;32m    901\u001b[0m     \u001b[0;32mdef\u001b[0m \u001b[0mgenerate\u001b[0m\u001b[0;34m(\u001b[0m\u001b[0mself\u001b[0m\u001b[0;34m)\u001b[0m\u001b[0;34m:\u001b[0m\u001b[0;34m\u001b[0m\u001b[0m\n\u001b[1;32m    902\u001b[0m         \u001b[0mself\u001b[0m\u001b[0;34m.\u001b[0m\u001b[0m_args_adjust\u001b[0m\u001b[0;34m(\u001b[0m\u001b[0;34m)\u001b[0m\u001b[0;34m\u001b[0m\u001b[0m\n\u001b[0;32m--> 903\u001b[0;31m         \u001b[0mself\u001b[0m\u001b[0;34m.\u001b[0m\u001b[0m_compute_plot_data\u001b[0m\u001b[0;34m(\u001b[0m\u001b[0;34m)\u001b[0m\u001b[0;34m\u001b[0m\u001b[0m\n\u001b[0m\u001b[1;32m    904\u001b[0m         \u001b[0mself\u001b[0m\u001b[0;34m.\u001b[0m\u001b[0m_setup_subplots\u001b[0m\u001b[0;34m(\u001b[0m\u001b[0;34m)\u001b[0m\u001b[0;34m\u001b[0m\u001b[0m\n\u001b[1;32m    905\u001b[0m         \u001b[0mself\u001b[0m\u001b[0;34m.\u001b[0m\u001b[0m_make_plot\u001b[0m\u001b[0;34m(\u001b[0m\u001b[0;34m)\u001b[0m\u001b[0;34m\u001b[0m\u001b[0m\n",
        "\u001b[0;32m/usr/local/Cellar/python/2.7.6/Frameworks/Python.framework/Versions/2.7/lib/python2.7/site-packages/pandas/tools/plotting.pyc\u001b[0m in \u001b[0;36m_compute_plot_data\u001b[0;34m(self)\u001b[0m\n\u001b[1;32m    982\u001b[0m         \u001b[0;32mif\u001b[0m \u001b[0mis_empty\u001b[0m\u001b[0;34m:\u001b[0m\u001b[0;34m\u001b[0m\u001b[0m\n\u001b[1;32m    983\u001b[0m             raise TypeError('Empty {0!r}: no numeric data to '\n\u001b[0;32m--> 984\u001b[0;31m                             'plot'.format(numeric_data.__class__.__name__))\n\u001b[0m\u001b[1;32m    985\u001b[0m \u001b[0;34m\u001b[0m\u001b[0m\n\u001b[1;32m    986\u001b[0m         \u001b[0mself\u001b[0m\u001b[0;34m.\u001b[0m\u001b[0mdata\u001b[0m \u001b[0;34m=\u001b[0m \u001b[0mnumeric_data\u001b[0m\u001b[0;34m\u001b[0m\u001b[0m\n",
        "\u001b[0;31mTypeError\u001b[0m: Empty 'Series': no numeric data to plot"
       ]
      }
     ],
     "prompt_number": 45
    },
    {
     "cell_type": "code",
     "collapsed": false,
     "input": [
      "better_series = good_series.convert_objects(convert_numeric=True)"
     ],
     "language": "python",
     "metadata": {},
     "outputs": [],
     "prompt_number": 48
    },
    {
     "cell_type": "code",
     "collapsed": false,
     "input": [
      "matty = better_series.plot()"
     ],
     "language": "python",
     "metadata": {},
     "outputs": [],
     "prompt_number": 50
    },
    {
     "cell_type": "code",
     "collapsed": false,
     "input": [
      "matty"
     ],
     "language": "python",
     "metadata": {},
     "outputs": [
      {
       "metadata": {},
       "output_type": "pyout",
       "prompt_number": 51,
       "text": [
        "<matplotlib.axes.AxesSubplot at 0x10ef31410>"
       ]
      }
     ],
     "prompt_number": 51
    },
    {
     "cell_type": "code",
     "collapsed": false,
     "input": [
      "\n",
      "%matplotlib inline"
     ],
     "language": "python",
     "metadata": {},
     "outputs": [],
     "prompt_number": 52
    },
    {
     "cell_type": "code",
     "collapsed": false,
     "input": [
      "better_series.plot()"
     ],
     "language": "python",
     "metadata": {},
     "outputs": [
      {
       "metadata": {},
       "output_type": "pyout",
       "prompt_number": 53,
       "text": [
        "<matplotlib.axes.AxesSubplot at 0x1108c11d0>"
       ]
      },
      {
       "metadata": {},
       "output_type": "display_data",
       "png": "[encoded data removed]",
       "text": [
        "<matplotlib.figure.Figure at 0x1108b4a50>"
       ]
      }
     ],
     "prompt_number": 53
    },
    {
     "cell_type": "code",
     "collapsed": false,
     "input": [],
     "language": "python",
     "metadata": {},
     "outputs": []
    }
   ],
   "metadata": {}
  }
 ]
}